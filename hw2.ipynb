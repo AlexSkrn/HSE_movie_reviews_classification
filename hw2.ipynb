{
 "cells": [
  {
   "cell_type": "markdown",
   "metadata": {},
   "source": [
    "# Большая домашка 1: классификация отзывов\n",
    "\n",
    "## Данные\n",
    "\n",
    "Скачиваются по [ссылке](https://drive.google.com/open?id=1gJEpwM3zdV5xe9nRU0VwQmGTiOTQdp10). Это отзывы пользователей на фильмы с КиноПоиска."
   ]
  },
  {
   "cell_type": "code",
   "execution_count": 1,
   "metadata": {},
   "outputs": [],
   "source": [
    "import os\n",
    "from time import time\n",
    "from collections import Counter\n",
    "\n",
    "import pandas as pd\n",
    "import numpy as np\n",
    "\n",
    "from sklearn.pipeline import Pipeline"
   ]
  },
  {
   "cell_type": "code",
   "execution_count": 2,
   "metadata": {},
   "outputs": [],
   "source": [
    "df = pd.read_csv(os.path.join('data', 'reviews.csv'))"
   ]
  },
  {
   "cell_type": "code",
   "execution_count": 3,
   "metadata": {},
   "outputs": [
    {
     "data": {
      "text/html": [
       "<div>\n",
       "<style scoped>\n",
       "    .dataframe tbody tr th:only-of-type {\n",
       "        vertical-align: middle;\n",
       "    }\n",
       "\n",
       "    .dataframe tbody tr th {\n",
       "        vertical-align: top;\n",
       "    }\n",
       "\n",
       "    .dataframe thead th {\n",
       "        text-align: right;\n",
       "    }\n",
       "</style>\n",
       "<table border=\"1\" class=\"dataframe\">\n",
       "  <thead>\n",
       "    <tr style=\"text-align: right;\">\n",
       "      <th></th>\n",
       "      <th>label</th>\n",
       "      <th>text</th>\n",
       "    </tr>\n",
       "  </thead>\n",
       "  <tbody>\n",
       "    <tr>\n",
       "      <th>0</th>\n",
       "      <td>1</td>\n",
       "      <td>Эпиграф Добро которое ты делаешь от сердца ты ...</td>\n",
       "    </tr>\n",
       "    <tr>\n",
       "      <th>1</th>\n",
       "      <td>1</td>\n",
       "      <td>Теперь это один из моих любимых фильмов в жанр...</td>\n",
       "    </tr>\n",
       "    <tr>\n",
       "      <th>2</th>\n",
       "      <td>1</td>\n",
       "      <td>Что скрыто в фильме Лучше не бывает Одна шикар...</td>\n",
       "    </tr>\n",
       "    <tr>\n",
       "      <th>3</th>\n",
       "      <td>1</td>\n",
       "      <td>Перед нами очень милое и доброе кино которое л...</td>\n",
       "    </tr>\n",
       "    <tr>\n",
       "      <th>4</th>\n",
       "      <td>1</td>\n",
       "      <td>Завязка Мелвин Удал популярный писатель Нет не...</td>\n",
       "    </tr>\n",
       "  </tbody>\n",
       "</table>\n",
       "</div>"
      ],
      "text/plain": [
       "   label                                               text\n",
       "0      1  Эпиграф Добро которое ты делаешь от сердца ты ...\n",
       "1      1  Теперь это один из моих любимых фильмов в жанр...\n",
       "2      1  Что скрыто в фильме Лучше не бывает Одна шикар...\n",
       "3      1  Перед нами очень милое и доброе кино которое л...\n",
       "4      1  Завязка Мелвин Удал популярный писатель Нет не..."
      ]
     },
     "execution_count": 3,
     "metadata": {},
     "output_type": "execute_result"
    }
   ],
   "source": [
    "df.head()"
   ]
  },
  {
   "cell_type": "code",
   "execution_count": 4,
   "metadata": {},
   "outputs": [
    {
     "data": {
      "text/plain": [
       "{-1, 0, 1}"
      ]
     },
     "execution_count": 4,
     "metadata": {},
     "output_type": "execute_result"
    }
   ],
   "source": [
    "set(df.label)"
   ]
  },
  {
   "cell_type": "markdown",
   "metadata": {},
   "source": [
    "В колонке `label` три класса: положительный (1), нейтральный (0) и отрицательный (-1)."
   ]
  },
  {
   "cell_type": "code",
   "execution_count": 5,
   "metadata": {},
   "outputs": [
    {
     "data": {
      "text/plain": [
       " 1    36480\n",
       " 0     5645\n",
       "-1     4376\n",
       "Name: label, dtype: int64"
      ]
     },
     "execution_count": 5,
     "metadata": {},
     "output_type": "execute_result"
    }
   ],
   "source": [
    "# Imbalanced dataset: 2 rare classes and 1 majority class\n",
    "df.label.value_counts()"
   ]
  },
  {
   "cell_type": "markdown",
   "metadata": {},
   "source": [
    "## Baseline"
   ]
  },
  {
   "cell_type": "code",
   "execution_count": 6,
   "metadata": {},
   "outputs": [],
   "source": [
    "from sklearn.naive_bayes import MultinomialNB\n",
    "from sklearn.model_selection import train_test_split\n",
    "from sklearn.feature_extraction.text import CountVectorizer"
   ]
  },
  {
   "cell_type": "code",
   "execution_count": 7,
   "metadata": {},
   "outputs": [
    {
     "name": "stdout",
     "output_type": "stream",
     "text": [
      "# of reviews: 46,501\n",
      "# of features: 369,844\n"
     ]
    }
   ],
   "source": [
    "vec = CountVectorizer()\n",
    "bag_of_words = vec.fit_transform(df.text)\n",
    "print('# of reviews: {:,}\\n# of features: {:,}'.format(*bag_of_words.shape))\n",
    "X_train, X_test, y_train, y_test = train_test_split(bag_of_words, df.label, random_state=42)"
   ]
  },
  {
   "cell_type": "code",
   "execution_count": 8,
   "metadata": {},
   "outputs": [],
   "source": [
    "nb = MultinomialNB()\n",
    "clf = nb.fit(X_train, y_train)"
   ]
  },
  {
   "cell_type": "code",
   "execution_count": 9,
   "metadata": {},
   "outputs": [],
   "source": [
    "from sklearn.metrics import classification_report"
   ]
  },
  {
   "cell_type": "code",
   "execution_count": 10,
   "metadata": {
    "scrolled": false
   },
   "outputs": [
    {
     "name": "stdout",
     "output_type": "stream",
     "text": [
      "              precision    recall  f1-score   support\n",
      "\n",
      "          -1       0.76      0.21      0.33      1075\n",
      "           0       0.35      0.08      0.13      1410\n",
      "           1       0.82      0.98      0.89      9141\n",
      "\n",
      "    accuracy                           0.80     11626\n",
      "   macro avg       0.64      0.42      0.45     11626\n",
      "weighted avg       0.75      0.80      0.75     11626\n",
      "\n"
     ]
    }
   ],
   "source": [
    "print(classification_report(y_test, clf.predict(X_test)))"
   ]
  },
  {
   "cell_type": "markdown",
   "metadata": {},
   "source": [
    "## Задание\n",
    "\n",
    "Побейте baseline выше как минимум тремя способами.\n",
    "\n",
    "\n",
    "**Обязательно**:\n",
    "* попробовать разный препроцессинг (2 балла)\n",
    "* попробовать разные классификаторы (2 балла)\n",
    "* поподбирать гиперпараметры классификаторов, можно с использованием GridSearch (2 балла)\n",
    "* попробуйте объяснить полученные результаты (2 балла)\n",
    "* визуализируйте веса признаков для лучшей модели (если лучшая модель не выдаёт коэффициенты признаков, возьмите логистическую регрессию); какие признаки оказались самыми значимыми? (2 балла)\n",
    "\n",
    "Если вы перебрали уже много разных способов и выполнили все обязательные критерии, но побить baseline тремя способами так и не получилось, не беспокойтесь. Главное -- полнота попыток :)\n",
    "\n",
    "Good luck and have fun! ;)"
   ]
  },
  {
   "cell_type": "code",
   "execution_count": 11,
   "metadata": {},
   "outputs": [],
   "source": [
    "# save Baseline MNB model predictions for comparision\n",
    "predictions_df = pd.DataFrame()\n",
    "predictions_df['MNB_BL'] = clf.predict(X_test)\n",
    "# predictions_df.to_csv(os.path.join('data', 'predictions.csv'), index=False)"
   ]
  },
  {
   "cell_type": "markdown",
   "metadata": {},
   "source": [
    "## MultinomialNB со стеммингом"
   ]
  },
  {
   "cell_type": "markdown",
   "metadata": {},
   "source": [
    "### Стемминг"
   ]
  },
  {
   "cell_type": "code",
   "execution_count": 12,
   "metadata": {},
   "outputs": [
    {
     "name": "stdout",
     "output_type": "stream",
     "text": [
      "эпиграф добр котор ты дела от сердц т\n",
      "0    эпиграф добр котор ты дела от сердц ты дела вс...\n",
      "1    тепер эт один из мо любим фильм в жанр в жанр ...\n",
      "Name: text, dtype: object\n"
     ]
    }
   ],
   "source": [
    "from nltk.stem.snowball import RussianStemmer\n",
    "from nltk.corpus import stopwords\n",
    "\n",
    "stemmer = RussianStemmer()\n",
    "\n",
    "def my_stemmer(text):\n",
    "    \"\"\"Return stemmed text as string.\"\"\"\n",
    "    stemmed_words = [stemmer.stem(word) for word in text.split(' ')]\n",
    "    return ' '.join(stemmed_words)\n",
    "\n",
    "\n",
    "print(my_stemmer('Эпиграф Добро которое ты делаешь от сердца т'))\n",
    "print(df['text'][:2].map(my_stemmer))"
   ]
  },
  {
   "cell_type": "markdown",
   "metadata": {
    "scrolled": true
   },
   "source": [
    "```\n",
    "# Stem text  -- TAKES LONG. WAIT!\n",
    "t0 = time()\n",
    "df['text_clean'] = df['text'].map(my_stemmer)\n",
    "print(f'Done in {time() - t0} seconds')\n",
    "```"
   ]
  },
  {
   "cell_type": "markdown",
   "metadata": {},
   "source": [
    "```\n",
    "Output:\n",
    "Done in 1310.778491973877 seconds\n",
    "\n",
    "```"
   ]
  },
  {
   "cell_type": "markdown",
   "metadata": {},
   "source": [
    "```\n",
    "# Save new df to file\n",
    "df.to_csv(os.path.join('data', 'reviews_clean.csv'), encoding='utf8', index=False)\n",
    "```"
   ]
  },
  {
   "cell_type": "markdown",
   "metadata": {},
   "source": [
    "### Обучение Multinomial Naive Bayes на данных со стеммингом"
   ]
  },
  {
   "cell_type": "markdown",
   "metadata": {},
   "source": [
    "[Тьюториал sklearn по работе с текстами](https://scikit-learn.org/stable/tutorial/text_analytics/working_with_text_data.html)\n",
    "\n",
    "Стемминг текстов позволяет примерно вдвое увеличить recall и f1-score по редким классам "
   ]
  },
  {
   "cell_type": "code",
   "execution_count": 13,
   "metadata": {
    "scrolled": true
   },
   "outputs": [
    {
     "data": {
      "text/html": [
       "<div>\n",
       "<style scoped>\n",
       "    .dataframe tbody tr th:only-of-type {\n",
       "        vertical-align: middle;\n",
       "    }\n",
       "\n",
       "    .dataframe tbody tr th {\n",
       "        vertical-align: top;\n",
       "    }\n",
       "\n",
       "    .dataframe thead th {\n",
       "        text-align: right;\n",
       "    }\n",
       "</style>\n",
       "<table border=\"1\" class=\"dataframe\">\n",
       "  <thead>\n",
       "    <tr style=\"text-align: right;\">\n",
       "      <th></th>\n",
       "      <th>label</th>\n",
       "      <th>text</th>\n",
       "      <th>text_clean</th>\n",
       "    </tr>\n",
       "  </thead>\n",
       "  <tbody>\n",
       "    <tr>\n",
       "      <th>0</th>\n",
       "      <td>1</td>\n",
       "      <td>Эпиграф Добро которое ты делаешь от сердца ты ...</td>\n",
       "      <td>эпиграф добр котор ты дела от сердц ты дела вс...</td>\n",
       "    </tr>\n",
       "    <tr>\n",
       "      <th>1</th>\n",
       "      <td>1</td>\n",
       "      <td>Теперь это один из моих любимых фильмов в жанр...</td>\n",
       "      <td>тепер эт один из мо любим фильм в жанр в жанр ...</td>\n",
       "    </tr>\n",
       "    <tr>\n",
       "      <th>2</th>\n",
       "      <td>1</td>\n",
       "      <td>Что скрыто в фильме Лучше не бывает Одна шикар...</td>\n",
       "      <td>что скрыт в фильм лучш не быва одн шикарн мысл...</td>\n",
       "    </tr>\n",
       "    <tr>\n",
       "      <th>3</th>\n",
       "      <td>1</td>\n",
       "      <td>Перед нами очень милое и доброе кино которое л...</td>\n",
       "      <td>перед нам очен мил и добр кин котор личн я смо...</td>\n",
       "    </tr>\n",
       "    <tr>\n",
       "      <th>4</th>\n",
       "      <td>1</td>\n",
       "      <td>Завязка Мелвин Удал популярный писатель Нет не...</td>\n",
       "      <td>завязк мелвин уда популярн писател нет не так ...</td>\n",
       "    </tr>\n",
       "  </tbody>\n",
       "</table>\n",
       "</div>"
      ],
      "text/plain": [
       "   label                                               text  \\\n",
       "0      1  Эпиграф Добро которое ты делаешь от сердца ты ...   \n",
       "1      1  Теперь это один из моих любимых фильмов в жанр...   \n",
       "2      1  Что скрыто в фильме Лучше не бывает Одна шикар...   \n",
       "3      1  Перед нами очень милое и доброе кино которое л...   \n",
       "4      1  Завязка Мелвин Удал популярный писатель Нет не...   \n",
       "\n",
       "                                          text_clean  \n",
       "0  эпиграф добр котор ты дела от сердц ты дела вс...  \n",
       "1  тепер эт один из мо любим фильм в жанр в жанр ...  \n",
       "2  что скрыт в фильм лучш не быва одн шикарн мысл...  \n",
       "3  перед нам очен мил и добр кин котор личн я смо...  \n",
       "4  завязк мелвин уда популярн писател нет не так ...  "
      ]
     },
     "execution_count": 13,
     "metadata": {},
     "output_type": "execute_result"
    }
   ],
   "source": [
    "# Load new df from file\n",
    "df = pd.read_csv(os.path.join('data', 'reviews_clean.csv'))\n",
    "df.head()"
   ]
  },
  {
   "cell_type": "code",
   "execution_count": 14,
   "metadata": {
    "scrolled": true
   },
   "outputs": [
    {
     "name": "stdout",
     "output_type": "stream",
     "text": [
      "Done in 10.645115852355957 seconds\n"
     ]
    }
   ],
   "source": [
    "# Split into train-test\n",
    "X_train, X_test, y_train, y_test = train_test_split(df.text_clean, df.label, random_state=42)\n",
    "\n",
    "# Build a pipeline (vectorizer => classifier) \n",
    "text_clf = Pipeline([\n",
    "    ('vect', CountVectorizer()),  # use 'vect' and 'clf'\n",
    "    ('clf', MultinomialNB()),     # to perform grid search for suitable hyperparameters\n",
    "])\n",
    "\n",
    "# Train\n",
    "t0 = time()\n",
    "text_clf.fit(X_train, y_train)\n",
    "print(f'Done in {time() - t0} seconds')"
   ]
  },
  {
   "cell_type": "code",
   "execution_count": 15,
   "metadata": {},
   "outputs": [],
   "source": [
    "# Predict\n",
    "pred = text_clf.predict(X_test)\n",
    "\n",
    "# save predictions to DataFrame\n",
    "predictions_df['MNB_stem'] = pred\n",
    "\n",
    "# # save to file\n",
    "# predictions_df.to_csv(os.path.join('data', 'predictions.csv'), index=False)"
   ]
  },
  {
   "cell_type": "code",
   "execution_count": 16,
   "metadata": {},
   "outputs": [
    {
     "name": "stdout",
     "output_type": "stream",
     "text": [
      "Baseline NB:\n",
      "\n",
      "              precision    recall  f1-score   support\n",
      "\n",
      "          -1       0.76      0.21      0.33      1075\n",
      "           0       0.35      0.08      0.13      1410\n",
      "           1       0.82      0.98      0.89      9141\n",
      "\n",
      "    accuracy                           0.80     11626\n",
      "   macro avg       0.64      0.42      0.45     11626\n",
      "weighted avg       0.75      0.80      0.75     11626\n",
      "\n",
      "-------------------------------------------------------\n",
      "NB with word stemming:\n",
      "\n",
      "              precision    recall  f1-score   support\n",
      "\n",
      "          -1       0.62      0.54      0.58      1075\n",
      "           0       0.35      0.23      0.28      1410\n",
      "           1       0.88      0.94      0.91      9141\n",
      "\n",
      "    accuracy                           0.82     11626\n",
      "   macro avg       0.62      0.57      0.59     11626\n",
      "weighted avg       0.79      0.82      0.80     11626\n",
      "\n"
     ]
    }
   ],
   "source": [
    "# Compare with Baseline\n",
    "print('Baseline NB:\\n')\n",
    "print(classification_report(y_test, predictions_df.MNB_BL))\n",
    "print('-' * 55)\n",
    "print('NB with word stemming:\\n')\n",
    "print(classification_report(y_test, predictions_df.MNB_stem))"
   ]
  },
  {
   "cell_type": "code",
   "execution_count": 17,
   "metadata": {},
   "outputs": [
    {
     "name": "stdout",
     "output_type": "stream",
     "text": [
      "support means true y-values in the test set\n",
      "Counter({1: 9141, 0: 1410, -1: 1075})\n"
     ]
    }
   ],
   "source": [
    "print('support means true y-values in the test set')\n",
    "print(Counter(y_test))"
   ]
  },
  {
   "cell_type": "markdown",
   "metadata": {},
   "source": [
    "### Визуализация с помощью Confusion Matrix\n",
    "\n",
    "Модель Baseline MNB -vs- модель MNB, обученная на данных со стеммингом"
   ]
  },
  {
   "cell_type": "code",
   "execution_count": 18,
   "metadata": {},
   "outputs": [],
   "source": [
    "import sklearn\n",
    "from sklearn.metrics import precision_recall_fscore_support\n",
    "import matplotlib.pyplot as plt\n",
    "import seaborn as sns\n",
    "sns.set()\n",
    "%matplotlib inline"
   ]
  },
  {
   "cell_type": "code",
   "execution_count": 19,
   "metadata": {},
   "outputs": [],
   "source": [
    "def confusion_matrix(labels, predicted_labels, label_classes):\n",
    "    \"\"\"Return a dataframe with a sklearnconfusion matrix.\"\"\"\n",
    "    return pd.DataFrame(\n",
    "        sklearn.metrics.confusion_matrix(labels, predicted_labels),\n",
    "        index=[label_classes], \n",
    "        columns=label_classes)\n",
    "\n",
    "def print_heatmap(conf_matrix, title, labels):\n",
    "    \"\"\"Print a confusion matrix as a heat map, with labels from a list.\"\"\"\n",
    "    fig, ax = plt.subplots(figsize=(4,4)) \n",
    "    sns.heatmap(conf_matrix, square=True, annot=True, fmt='d', cbar=False,\n",
    "                xticklabels=labels, yticklabels=labels, ax=ax)\n",
    "    plt.xlabel('Actual labels')\n",
    "    plt.ylabel('Predicted labels')\n",
    "    plt.title(title)\n",
    "    plt.show()"
   ]
  },
  {
   "cell_type": "code",
   "execution_count": 20,
   "metadata": {
    "scrolled": true
   },
   "outputs": [
    {
     "data": {
      "image/png": "[encoded data removed]",
      "text/plain": [
       "<Figure size 288x288 with 1 Axes>"
      ]
     },
     "metadata": {
      "needs_background": "light"
     },
     "output_type": "display_data"
    },
    {
     "data": {
      "image/png": "[encoded data removed]",
      "text/plain": [
       "<Figure size 288x288 with 1 Axes>"
      ]
     },
     "metadata": {
      "needs_background": "light"
     },
     "output_type": "display_data"
    }
   ],
   "source": [
    "# confusion matrix for Baseline MNB\n",
    "conf_matrix_BL = confusion_matrix(y_test,\n",
    "                               predictions_df.MNB_BL,\n",
    "                               sorted(df.label.unique()))\n",
    "\n",
    "\n",
    "# confusion matrix for MNB trained on stemmed texts\n",
    "conf_matrix_stem = confusion_matrix(y_test,\n",
    "                               predictions_df.MNB_stem,\n",
    "                               sorted(df.label.unique()))\n",
    "\n",
    "print_heatmap(conf_matrix_BL.T,\n",
    "              'Confusion matrix for Baseline Naive Bayes model',\n",
    "              conf_matrix_BL.index)\n",
    "\n",
    "print_heatmap(conf_matrix_stem.T,\n",
    "              'Confusion matrix for Naive Bayes with stemmed data',\n",
    "              conf_matrix_stem.index)"
   ]
  },
  {
   "cell_type": "markdown",
   "metadata": {},
   "source": [
    "### GridSearch для Multinomial NB\n",
    "\n",
    "GridSearch ничего мне не дал. Работает долго, на сабсетах данных возвращает либо дефолтные параметры, либо такие, с которыми классификатор совсем не определяет редкие классы"
   ]
  },
  {
   "cell_type": "markdown",
   "metadata": {},
   "source": [
    "```\n",
    "from sklearn.model_selection import GridSearchCV\n",
    "from nltk.corpus import stopwords\n",
    "\n",
    "stemmed_stopwords = list(map(my_stemmer, stopwords.words('russian')))\n",
    "\n",
    "t0 = time()\n",
    "# Split into train-test\n",
    "X_train, X_test, y_train, y_test = train_test_split(df.text_clean,\n",
    "                                                    df.label,\n",
    "                                                    random_state=42)  \n",
    "\n",
    "# Build a pipeline (vectorizer => classifier) \n",
    "text_clf = Pipeline([\n",
    "    ('vect', CountVectorizer()),\n",
    "    ('clf', MultinomialNB()),\n",
    "])\n",
    "\n",
    "parameters = {\n",
    "    'vect__ngram_range': [(1, 1), (1, 2)],  # vect for CountVectorizer()\n",
    "    'vect__stop_words': [None, stemmed_stopwords],\n",
    "    'vect__max_df': [0.6, 0.7, 0.8, 0.9, 1.0],\n",
    "    'clf__alpha': (1, 2, 3, 4),             # clf for MultinomialNB()\n",
    "}\n",
    "\n",
    "gs_clf = GridSearchCV(text_clf,\n",
    "                      parameters,\n",
    "                      cv=5,\n",
    "                      n_jobs=-1   # if several cores, use all\n",
    "                     )\n",
    "\n",
    "Search on a subset to speed up\n",
    "gs_clf = gs_clf.fit(X_train[:4000], y_train[:4000])\n",
    "\n",
    "print(f'Done in {time() - t0} seconds')\n",
    "\n",
    "gs_clf.best_params_\n",
    "```"
   ]
  },
  {
   "cell_type": "markdown",
   "metadata": {},
   "source": [
    "## LogisticRegression c GridSearch на данных со стеммингом "
   ]
  },
  {
   "cell_type": "markdown",
   "metadata": {},
   "source": [
    "Логистическая регрессия с дефолтными параметрами дает более высокие значения recall и f1-score для двух редких классов по сравнению с Baseline. Подбор параметров с помощью ограниченного GridSearch позволяет еще немного улучшить эти метрики"
   ]
  },
  {
   "cell_type": "code",
   "execution_count": 21,
   "metadata": {},
   "outputs": [
    {
     "name": "stdout",
     "output_type": "stream",
     "text": [
      "Done in 69.4740138053894 seconds\n"
     ]
    }
   ],
   "source": [
    "from sklearn.model_selection import train_test_split\n",
    "from sklearn.linear_model import LogisticRegression\n",
    "from sklearn.feature_extraction.text import CountVectorizer\n",
    "from sklearn.feature_extraction.text import TfidfTransformer\n",
    "\n",
    "# Split into train-test\n",
    "X_train, X_test, y_train, y_test = train_test_split(df.text_clean, df.label, random_state=42)\n",
    "\n",
    "# Build a pipeline (vectorizer => transformer => classifier) \n",
    "text_clf = Pipeline([\n",
    "    ('vect', CountVectorizer()),\n",
    "    ('transf', TfidfTransformer()),\n",
    "    ('clf', LogisticRegression(\n",
    "        C=5,\n",
    "        class_weight='balanced',\n",
    "        max_iter=1000,\n",
    "        random_state=42)\n",
    "    ),\n",
    "])\n",
    "t0 = time()\n",
    "# Train\n",
    "text_clf.fit(X_train, y_train)\n",
    "\n",
    "print(f'Done in {time() - t0} seconds')"
   ]
  },
  {
   "cell_type": "code",
   "execution_count": 22,
   "metadata": {},
   "outputs": [],
   "source": [
    "# Predict\n",
    "pred = text_clf.predict(X_test)\n",
    "\n",
    "# Save predictions to DataFrame\n",
    "predictions_df['LogRegTfIDF'] = pred\n",
    "\n",
    "# Save to file\n",
    "# predictions_df.to_csv(os.path.join('data', 'predictions.csv'), index=False)"
   ]
  },
  {
   "cell_type": "code",
   "execution_count": 23,
   "metadata": {},
   "outputs": [
    {
     "name": "stdout",
     "output_type": "stream",
     "text": [
      "Baseline NB:\n",
      "\n",
      "              precision    recall  f1-score   support\n",
      "\n",
      "          -1       0.76      0.21      0.33      1075\n",
      "           0       0.35      0.08      0.13      1410\n",
      "           1       0.82      0.98      0.89      9141\n",
      "\n",
      "    accuracy                           0.80     11626\n",
      "   macro avg       0.64      0.42      0.45     11626\n",
      "weighted avg       0.75      0.80      0.75     11626\n",
      "\n",
      "-------------------------------------------------------\n",
      "Logistic Regression trained on stemmed and TfIDF-vectorized texts:\n",
      "\n",
      "              precision    recall  f1-score   support\n",
      "\n",
      "          -1       0.58      0.66      0.62      1075\n",
      "           0       0.32      0.41      0.36      1410\n",
      "           1       0.92      0.87      0.90      9141\n",
      "\n",
      "    accuracy                           0.79     11626\n",
      "   macro avg       0.61      0.65      0.62     11626\n",
      "weighted avg       0.82      0.79      0.80     11626\n",
      "\n"
     ]
    }
   ],
   "source": [
    "# Compare with Baseline\n",
    "print('Baseline NB:\\n')\n",
    "print(classification_report(y_test, predictions_df.MNB_BL))\n",
    "print('-' * 55)\n",
    "print('Logistic Regression trained on stemmed and TfIDF-vectorized texts:\\n')\n",
    "print(classification_report(y_test, predictions_df.LogRegTfIDF))"
   ]
  },
  {
   "cell_type": "markdown",
   "metadata": {},
   "source": [
    "Вот так отчет по логистической регрессии выглядел до GridSearch:"
   ]
  },
  {
   "cell_type": "markdown",
   "metadata": {},
   "source": [
    "```\n",
    "Logistic Regression before GridSearch:\n",
    "\n",
    "              precision    recall  f1-score   support\n",
    "\n",
    "          -1       0.72      0.51      0.59      1075\n",
    "           0       0.48      0.15      0.23      1410\n",
    "           1       0.86      0.98      0.92      9141\n",
    "\n",
    "    accuracy                           0.84     11626\n",
    "   macro avg       0.69      0.55      0.58     11626\n",
    "weighted avg       0.80      0.84      0.81     11626\n",
    "```"
   ]
  },
  {
   "cell_type": "markdown",
   "metadata": {},
   "source": [
    "### Небольшой GridSearch для Logistic Regression"
   ]
  },
  {
   "cell_type": "markdown",
   "metadata": {},
   "source": [
    "```\n",
    "from sklearn.model_selection import GridSearchCV\n",
    "\n",
    "t0 = time()\n",
    "# Split into train-test\n",
    "X_train, X_test, y_train, y_test = train_test_split(df.text_clean,\n",
    "                                                    df.label,\n",
    "                                                    random_state=42)  \n",
    "\n",
    "# Build a pipeline (vectorizer => classifier) \n",
    "text_clf = Pipeline([\n",
    "    ('vect', CountVectorizer()),\n",
    "    ('tfidf', TfidfTransformer()),\n",
    "    ('clf', LogisticRegression(max_iter=1000, random_state=42)),\n",
    "])\n",
    "\n",
    "parameters = {\n",
    "    'tfidf__use_idf': [True, False],\n",
    "    'clf__C': [0.001, 0.009, 0.01, 0.09, 1, 5, 10, 25],\n",
    "    'clf__class_weight': [None, 'balanced']\n",
    "}\n",
    "\n",
    "gs_clf = GridSearchCV(text_clf,\n",
    "                      parameters,\n",
    "                      cv=5,\n",
    "                      n_jobs=-1\n",
    "                     )\n",
    "\n",
    "Search on a subset to speed up\n",
    "gs_clf = gs_clf.fit(X_train[:4000], y_train[:4000])\n",
    "\n",
    "print(f'Done in {time() - t0} seconds')\n",
    "\n",
    "gs_clf.best_params_\n",
    "\n",
    "\n",
    "# Output:\n",
    "\n",
    "Done in 390.3925950527191 seconds\n",
    "\n",
    "{'clf__C': 5, 'clf__class_weight': 'balanced', 'tfidf__use_idf': True}\n",
    "```"
   ]
  },
  {
   "cell_type": "markdown",
   "metadata": {},
   "source": [
    "## Визуализация весов признаков для логистической регрессии"
   ]
  },
  {
   "cell_type": "code",
   "execution_count": 24,
   "metadata": {
    "scrolled": true
   },
   "outputs": [
    {
     "name": "stdout",
     "output_type": "stream",
     "text": [
      "# of classes and # of features: (3, 104574)\n",
      "Labels of classes: [-1  0  1]\n"
     ]
    }
   ],
   "source": [
    "# Get the classifier and vectorizer objects from the pipeline\n",
    "clf = text_clf.named_steps['clf']\n",
    "vectorizer = text_clf.named_steps['vect']\n",
    "\n",
    "print('# of classes and # of features:', clf.coef_.shape)\n",
    "print('Labels of classes:', clf.classes_)"
   ]
  },
  {
   "cell_type": "code",
   "execution_count": 25,
   "metadata": {},
   "outputs": [],
   "source": [
    "# Translation dict from vocab indexes to words\n",
    "index_to_word = {\n",
    "    ind: word\n",
    "    for (word, ind)\n",
    "    in vectorizer.vocabulary_.items()\n",
    "    }\n",
    "\n",
    "def get_features(class_label):\n",
    "    \"\"\"Return tuples of indexes and coef of features sorted from top to bottom by coef.\"\"\"\n",
    "    label_transl_dict = {-1: 0,\n",
    "                        0: 1,\n",
    "                        1: 2\n",
    "                       }\n",
    "    idx = label_transl_dict[class_label]\n",
    "    return sorted(enumerate(clf.coef_[idx]), key=lambda pair: pair[1], reverse=True)\n",
    "\n",
    "def get_words_from_idx(indexes):\n",
    "    \"\"\"Return a list of words from indexes.\"\"\"\n",
    "    return [index_to_word[index] for index in indexes]\n",
    "\n",
    "def plot_top_features(class_label, max_top_feat):\n",
    "    \"\"\"Plot a bar chart of top features for a given label.\"\"\"\n",
    "    idx_coef_list = get_features(class_label=class_label)\n",
    "    idx, coef = zip(*idx_coef_list)\n",
    "    top_words = get_words_from_idx(idx[:max_top_feat])\n",
    "    plt.figure(figsize=(12,4))\n",
    "    plt.bar(top_words, coef[:max_top_feat])\n",
    "    plt.title(f'Наиболее значимые признаки в категории {class_label}')\n",
    "    plt.xlabel('Признаки')\n",
    "    plt.ylabel('Коэффициенты')\n",
    "    plt.xticks(rotation = '45')\n",
    "    plt.show()"
   ]
  },
  {
   "cell_type": "code",
   "execution_count": 26,
   "metadata": {
    "scrolled": false
   },
   "outputs": [
    {
     "data": {
      "image/png": "[encoded data removed]",
      "text/plain": [
       "<Figure size 864x288 with 1 Axes>"
      ]
     },
     "metadata": {
      "needs_background": "light"
     },
     "output_type": "display_data"
    }
   ],
   "source": [
    "plot_top_features(class_label=-1, max_top_feat=20)"
   ]
  },
  {
   "cell_type": "code",
   "execution_count": 27,
   "metadata": {
    "scrolled": false
   },
   "outputs": [
    {
     "data": {
      "image/png": "[encoded data removed]",
      "text/plain": [
       "<Figure size 864x288 with 1 Axes>"
      ]
     },
     "metadata": {
      "needs_background": "light"
     },
     "output_type": "display_data"
    }
   ],
   "source": [
    "plot_top_features(class_label=0, max_top_feat=20)"
   ]
  },
  {
   "cell_type": "code",
   "execution_count": 28,
   "metadata": {
    "scrolled": false
   },
   "outputs": [
    {
     "data": {
      "image/png": "[encoded data removed]",
      "text/plain": [
       "<Figure size 864x288 with 1 Axes>"
      ]
     },
     "metadata": {
      "needs_background": "light"
     },
     "output_type": "display_data"
    }
   ],
   "source": [
    "plot_top_features(class_label=1, max_top_feat=20)"
   ]
  },
  {
   "cell_type": "markdown",
   "metadata": {},
   "source": [
    "## SVC - Support Vector Classification - на данных после стемминга и Tfidf-векторизации\n",
    "\n",
    "Обучается безумно долго. Результаты при обучении с дефолтными параметрами сопоставимы с результатами Baseline NB. Я даже не буду пытаться менять параметры, не говоря уже о GridSearch  "
   ]
  },
  {
   "cell_type": "markdown",
   "metadata": {},
   "source": [
    "```\n",
    "from sklearn.svm import SVC\n",
    "\n",
    "t0 = time()\n",
    "# Split into train-test\n",
    "X_train, X_test, y_train, y_test = train_test_split(df.text_clean, df.label, random_state=42)\n",
    "\n",
    "# Build a pipeline (vectorizer => classifier) \n",
    "text_clf = Pipeline([\n",
    "    ('vect', CountVectorizer()),\n",
    "    ('transf', TfidfTransformer()),\n",
    "    ('clf', SVC()),\n",
    "])\n",
    "\n",
    "# Train\n",
    "text_clf.fit(X_train, y_train)\n",
    "\n",
    "print(f'Done in {time() - t0} seconds')\n",
    "\n",
    "# Done in 8200.246840953827 seconds\n",
    "```"
   ]
  },
  {
   "cell_type": "markdown",
   "metadata": {},
   "source": [
    "```\n",
    "# Predict\n",
    "pred = text_clf.predict(X_test)\n",
    "\n",
    "# save predictions to DataFrame\n",
    "predictions_df['SVC'] = pred\n",
    "\n",
    "# save to file\n",
    "predictions_df.to_csv(os.path.join('data', 'predictions.csv'), index=False)\n",
    "```"
   ]
  },
  {
   "cell_type": "markdown",
   "metadata": {},
   "source": [
    "```\n",
    "# Compare with Baseline\n",
    "print('Baseline NB:\\n')\n",
    "print(classification_report(y_test, predictions_df.MNB_BL))\n",
    "print('-' * 55)\n",
    "print('SVC trained on stemmed and TfIDF-vectorized texts:\\n')\n",
    "print(classification_report(y_test, predictions_df.SVC))\n",
    "```"
   ]
  },
  {
   "cell_type": "markdown",
   "metadata": {},
   "source": [
    "```\n",
    "Baseline NB:\n",
    "\n",
    "              precision    recall  f1-score   support\n",
    "\n",
    "          -1       0.76      0.21      0.33      1075\n",
    "           0       0.35      0.08      0.13      1410\n",
    "           1       0.82      0.98      0.89      9141\n",
    "\n",
    "    accuracy                           0.80     11626\n",
    "   macro avg       0.64      0.42      0.45     11626\n",
    "weighted avg       0.75      0.80      0.75     11626\n",
    "\n",
    "-------------------------------------------------------\n",
    "SVC trained on stemmed and TfIDF-vectorized texts:\n",
    "\n",
    "              precision    recall  f1-score   support\n",
    "\n",
    "          -1       0.73      0.50      0.59      1075\n",
    "           0       0.49      0.06      0.11      1410\n",
    "           1       0.85      0.99      0.91      9141\n",
    "\n",
    "    accuracy                           0.83     11626\n",
    "   macro avg       0.69      0.52      0.54     11626\n",
    "weighted avg       0.79      0.83      0.79     11626\n",
    "```"
   ]
  },
  {
   "cell_type": "markdown",
   "metadata": {},
   "source": [
    "## Классификатор Random Forest"
   ]
  },
  {
   "cell_type": "markdown",
   "metadata": {},
   "source": [
    "Классификатор RF совсем не определяет редкие классы -- ни с дефолтными параметрами, ни с параметрами, найденными с помощью GridSearch на сабсете данных. Возможно, слишком много признаков и нужно использовать усовершенстованные версии этой модели (см. напр., обсуждение здесь: [stackexchange.com](https://stats.stackexchange.com/questions/343954/random-forest-short-text-classification)). Код для GridSearch для RandomForest в отдельном файле в репозитории -- rf_gridsearch.py"
   ]
  },
  {
   "cell_type": "code",
   "execution_count": 29,
   "metadata": {},
   "outputs": [
    {
     "name": "stdout",
     "output_type": "stream",
     "text": [
      "Done in 14.005861043930054 seconds\n"
     ]
    }
   ],
   "source": [
    "from sklearn.ensemble import RandomForestClassifier\n",
    "\n",
    "t0 = time()\n",
    "# Split into train-test\n",
    "X_train, X_test, y_train, y_test = train_test_split(df.text_clean, df.label, random_state=42)\n",
    "\n",
    "# Build a pipeline (vectorizer => transformer => classifier) \n",
    "text_clf = Pipeline([\n",
    "    ('vect', CountVectorizer()),\n",
    "    ('transf', TfidfTransformer()),\n",
    "    ('clf', RandomForestClassifier(\n",
    "        n_estimators=5,\n",
    "        max_depth=3,\n",
    "        max_features=1,\n",
    "        min_samples_leaf=1,\n",
    "        min_samples_split=2,\n",
    "        random_state=42)\n",
    "    ),\n",
    "])\n",
    "\n",
    "# Train\n",
    "text_clf.fit(X_train, y_train)\n",
    "\n",
    "print(f'Done in {time() - t0} seconds')\n"
   ]
  },
  {
   "cell_type": "code",
   "execution_count": 30,
   "metadata": {},
   "outputs": [],
   "source": [
    "# Predict\n",
    "pred = text_clf.predict(X_test)\n",
    "\n",
    "# save predictions to DataFrame\n",
    "predictions_df['RF'] = pred\n",
    "\n",
    "# save to file\n",
    "# predictions_df.to_csv(os.path.join('data', 'predictions.csv'), index=False)"
   ]
  },
  {
   "cell_type": "code",
   "execution_count": 31,
   "metadata": {},
   "outputs": [
    {
     "name": "stdout",
     "output_type": "stream",
     "text": [
      "Baseline NB:\n",
      "\n",
      "              precision    recall  f1-score   support\n",
      "\n",
      "          -1       0.76      0.21      0.33      1075\n",
      "           0       0.35      0.08      0.13      1410\n",
      "           1       0.82      0.98      0.89      9141\n",
      "\n",
      "    accuracy                           0.80     11626\n",
      "   macro avg       0.64      0.42      0.45     11626\n",
      "weighted avg       0.75      0.80      0.75     11626\n",
      "\n",
      "-------------------------------------------------------\n",
      "RandomForest trained on stemmed and TfIDF-vectorized texts:\n",
      "\n",
      "              precision    recall  f1-score   support\n",
      "\n",
      "          -1       0.00      0.00      0.00      1075\n",
      "           0       0.00      0.00      0.00      1410\n",
      "           1       0.79      1.00      0.88      9141\n",
      "\n",
      "    accuracy                           0.79     11626\n",
      "   macro avg       0.26      0.33      0.29     11626\n",
      "weighted avg       0.62      0.79      0.69     11626\n",
      "\n"
     ]
    },
    {
     "name": "stderr",
     "output_type": "stream",
     "text": [
      "/Users/alexskrn/opt/anaconda3/lib/python3.7/site-packages/sklearn/metrics/_classification.py:1272: UndefinedMetricWarning: Precision and F-score are ill-defined and being set to 0.0 in labels with no predicted samples. Use `zero_division` parameter to control this behavior.\n",
      "  _warn_prf(average, modifier, msg_start, len(result))\n"
     ]
    }
   ],
   "source": [
    "# Compare with Baseline\n",
    "print('Baseline NB:\\n')\n",
    "print(classification_report(y_test, predictions_df.MNB_BL))\n",
    "print('-' * 55)\n",
    "print('RandomForest trained on stemmed and TfIDF-vectorized texts:\\n')\n",
    "print(classification_report(y_test, predictions_df.RF))"
   ]
  },
  {
   "cell_type": "markdown",
   "metadata": {},
   "source": [
    "## Отчеты по всем моделям"
   ]
  },
  {
   "cell_type": "code",
   "execution_count": 32,
   "metadata": {
    "scrolled": true
   },
   "outputs": [
    {
     "name": "stdout",
     "output_type": "stream",
     "text": [
      "MNB_BL:\n",
      "\n",
      "              precision    recall  f1-score   support\n",
      "\n",
      "          -1       0.76      0.21      0.33      1075\n",
      "           0       0.35      0.08      0.13      1410\n",
      "           1       0.82      0.98      0.89      9141\n",
      "\n",
      "    accuracy                           0.80     11626\n",
      "   macro avg       0.64      0.42      0.45     11626\n",
      "weighted avg       0.75      0.80      0.75     11626\n",
      "\n",
      "-------------------------------------------------------\n",
      "MNB_stem:\n",
      "\n",
      "              precision    recall  f1-score   support\n",
      "\n",
      "          -1       0.62      0.54      0.58      1075\n",
      "           0       0.35      0.23      0.28      1410\n",
      "           1       0.88      0.94      0.91      9141\n",
      "\n",
      "    accuracy                           0.82     11626\n",
      "   macro avg       0.62      0.57      0.59     11626\n",
      "weighted avg       0.79      0.82      0.80     11626\n",
      "\n",
      "-------------------------------------------------------\n",
      "LogRegTfIDF:\n",
      "\n",
      "              precision    recall  f1-score   support\n",
      "\n",
      "          -1       0.58      0.66      0.62      1075\n",
      "           0       0.32      0.41      0.36      1410\n",
      "           1       0.92      0.87      0.90      9141\n",
      "\n",
      "    accuracy                           0.79     11626\n",
      "   macro avg       0.61      0.65      0.62     11626\n",
      "weighted avg       0.82      0.79      0.80     11626\n",
      "\n",
      "-------------------------------------------------------\n",
      "RF:\n",
      "\n",
      "              precision    recall  f1-score   support\n",
      "\n",
      "          -1       0.00      0.00      0.00      1075\n",
      "           0       0.00      0.00      0.00      1410\n",
      "           1       0.79      1.00      0.88      9141\n",
      "\n",
      "    accuracy                           0.79     11626\n",
      "   macro avg       0.26      0.33      0.29     11626\n",
      "weighted avg       0.62      0.79      0.69     11626\n",
      "\n",
      "-------------------------------------------------------\n"
     ]
    }
   ],
   "source": [
    "for model_name, contents in predictions_df.iteritems():\n",
    "    print(f'{model_name}:\\n')\n",
    "    print(classification_report(y_test, contents))\n",
    "    print('-' * 55)"
   ]
  },
  {
   "cell_type": "markdown",
   "metadata": {},
   "source": [
    "Самой адекватной выглядит модель логистической регрессии. Визуализация наиболее значимых признаков для этой модели приведена выше. Модель RandomForest не работает -- видимо, нужны более продвинутые версии этой модели."
   ]
  },
  {
   "cell_type": "markdown",
   "metadata": {},
   "source": [
    "### Бонус\n",
    "(+2 балла к основному заданию; оценка за всё задание может быть выше 10)\n",
    "\n",
    "Придумайте ещё 2-3 осмысленных способа визуализации данных или результатов. Добавьте их ниже или в текст основного задания. и сошлитесь на них здесь."
   ]
  },
  {
   "cell_type": "markdown",
   "metadata": {},
   "source": [
    "## ROC-кривая для многоклассовой классификации\n",
    "\n",
    "Площадь под этой кривой показала бы, насколько хороша модель, и позволила бы сравнить модели. Но в многоклассовом случае код и графики становятся довольно замороченными. Отдельная сложность -- сделать такой график для классификатора NaiveBayes. Поэтому я адаптировал код из документации sklearn ([multi-lable ROC on scikit-learn.org](https://scikit-learn.org/stable/auto_examples/model_selection/plot_roc.html)) только для своей логистической регрессии и на этом остановился. Я предполагаю, что можно было бы взять только \"macro-average ROC curve\" для всех моделей и наложить эти кривые на один график. Согласно документации \"macro-averaging ... gives equal weight to the classification of each label\", что, видимо, и нужно, так как в настоящем наборе данных есть два редких класса и не хотелось бы, чтобы мажоритарный класс перевешивал в оценке"
   ]
  },
  {
   "cell_type": "code",
   "execution_count": 33,
   "metadata": {},
   "outputs": [],
   "source": [
    "from sklearn import svm, datasets\n",
    "from sklearn.metrics import roc_curve, auc\n",
    "from sklearn.model_selection import train_test_split\n",
    "from sklearn.preprocessing import label_binarize\n",
    "from sklearn.multiclass import OneVsRestClassifier\n",
    "from sklearn.feature_extraction.text import TfidfVectorizer\n",
    "from scipy import interp\n",
    "from sklearn.metrics import roc_auc_score\n",
    "\n",
    "# data\n",
    "X = df.text_clean\n",
    "y = df.label\n",
    "\n",
    "# Binarize the output\n",
    "y = label_binarize(y, classes=[-1, 0, 1])\n",
    "n_classes = y.shape[1]\n",
    "\n",
    "# shuffle and split training and test sets\n",
    "X_train, X_test, y_train, y_test = train_test_split(X, y, random_state=42)\n",
    "\n",
    "# Learn to predict each class against the other\n",
    "tfidf = TfidfVectorizer()\n",
    "lg_clf = LogisticRegression(\n",
    "        C=5,\n",
    "        class_weight='balanced',\n",
    "        max_iter=1000,\n",
    "        random_state=42\n",
    ")\n",
    "X_train = tfidf.fit_transform(X_train)\n",
    "\n",
    "classifier = OneVsRestClassifier(lg_clf)\n",
    "y_score = classifier.fit(X_train, y_train).decision_function(tfidf.transform(X_test))\n",
    "\n",
    "# Compute ROC curve and ROC area for each class\n",
    "fpr = dict()\n",
    "tpr = dict()\n",
    "roc_auc = dict()\n",
    "for i in range(n_classes):\n",
    "    fpr[i], tpr[i], _ = roc_curve(y_test[:, i], y_score[:, i])\n",
    "    roc_auc[i] = auc(fpr[i], tpr[i])\n",
    "\n",
    "# Compute micro-average ROC curve and ROC area\n",
    "fpr[\"micro\"], tpr[\"micro\"], _ = roc_curve(y_test.ravel(), y_score.ravel())\n",
    "roc_auc[\"micro\"] = auc(fpr[\"micro\"], tpr[\"micro\"])"
   ]
  },
  {
   "cell_type": "code",
   "execution_count": 34,
   "metadata": {},
   "outputs": [
    {
     "data": {
      "image/png": "[encoded data removed]",
      "text/plain": [
       "<Figure size 432x288 with 1 Axes>"
      ]
     },
     "metadata": {
      "needs_background": "light"
     },
     "output_type": "display_data"
    }
   ],
   "source": [
    "import numpy as np\n",
    "import matplotlib.pyplot as plt\n",
    "from itertools import cycle\n",
    "\n",
    "\n",
    "plt.figure()\n",
    "lw = 2\n",
    "plt.plot(fpr[2], tpr[2], color='darkorange',\n",
    "         lw=lw, label='ROC curve (area = %0.2f)' % roc_auc[2])\n",
    "plt.plot([0, 1], [0, 1], color='navy', lw=lw, linestyle='--')\n",
    "plt.xlim([0.0, 1.0])\n",
    "plt.ylim([0.0, 1.05])\n",
    "plt.xlabel('False Positive Rate')\n",
    "plt.ylabel('True Positive Rate')\n",
    "plt.title('Receiver operating characteristic\\nfor one class in Logistic Regression')\n",
    "plt.legend(loc=\"lower right\")\n",
    "plt.show()"
   ]
  },
  {
   "cell_type": "markdown",
   "metadata": {},
   "source": [
    "### Кривые для всех классов"
   ]
  },
  {
   "cell_type": "code",
   "execution_count": 35,
   "metadata": {},
   "outputs": [
    {
     "name": "stderr",
     "output_type": "stream",
     "text": [
      "/Users/alexskrn/opt/anaconda3/lib/python3.7/site-packages/ipykernel_launcher.py:7: DeprecationWarning: scipy.interp is deprecated and will be removed in SciPy 2.0.0, use numpy.interp instead\n",
      "  import sys\n"
     ]
    },
    {
     "data": {
      "image/png": "[encoded data removed]",
      "text/plain": [
       "<Figure size 432x288 with 1 Axes>"
      ]
     },
     "metadata": {
      "needs_background": "light"
     },
     "output_type": "display_data"
    }
   ],
   "source": [
    "# First aggregate all false positive rates\n",
    "all_fpr = np.unique(np.concatenate([fpr[i] for i in range(n_classes)]))\n",
    "\n",
    "# Then interpolate all ROC curves at this points\n",
    "mean_tpr = np.zeros_like(all_fpr)\n",
    "for i in range(n_classes):\n",
    "    mean_tpr += interp(all_fpr, fpr[i], tpr[i])\n",
    "\n",
    "# Finally average it and compute AUC\n",
    "mean_tpr /= n_classes\n",
    "\n",
    "fpr[\"macro\"] = all_fpr\n",
    "tpr[\"macro\"] = mean_tpr\n",
    "roc_auc[\"macro\"] = auc(fpr[\"macro\"], tpr[\"macro\"])\n",
    "\n",
    "# Plot all ROC curves\n",
    "plt.figure()\n",
    "plt.plot(fpr[\"micro\"], tpr[\"micro\"],\n",
    "         label='micro-average ROC curve (area = {0:0.2f})'\n",
    "               ''.format(roc_auc[\"micro\"]),\n",
    "         color='deeppink', linestyle=':', linewidth=4)\n",
    "\n",
    "plt.plot(fpr[\"macro\"], tpr[\"macro\"],\n",
    "         label='macro-average ROC curve (area = {0:0.2f})'\n",
    "               ''.format(roc_auc[\"macro\"]),\n",
    "         color='navy', linestyle=':', linewidth=4)\n",
    "\n",
    "colors = cycle(['aqua', 'darkorange', 'cornflowerblue'])\n",
    "for i, color in zip(range(n_classes), colors):\n",
    "    plt.plot(fpr[i], tpr[i], color=color, lw=lw,\n",
    "             label='ROC curve of class {0} (area = {1:0.2f})'\n",
    "             ''.format(i, roc_auc[i]))\n",
    "\n",
    "plt.plot([0, 1], [0, 1], 'k--', lw=lw)\n",
    "plt.xlim([0.0, 1.0])\n",
    "plt.ylim([0.0, 1.05])\n",
    "plt.xlabel('False Positive Rate')\n",
    "plt.ylabel('True Positive Rate')\n",
    "plt.title('Receiver operating characteristic for multi-class LogReg')\n",
    "plt.legend(loc=\"lower right\")\n",
    "plt.show()"
   ]
  },
  {
   "cell_type": "markdown",
   "metadata": {},
   "source": [
    "### Различные оценки auc -- площади под кривой\n",
    "\n",
    "Смысла я в этом не вижу -- наверное, это надо сравнивать с такими же показателями для других моделей"
   ]
  },
  {
   "cell_type": "code",
   "execution_count": 36,
   "metadata": {},
   "outputs": [
    {
     "name": "stdout",
     "output_type": "stream",
     "text": [
      "One-vs-One ROC AUC scores:\n",
      "0.867445 (macro),\n",
      "0.883034 (weighted by prevalence)\n",
      "One-vs-Rest ROC AUC scores:\n",
      "0.867445 (macro),\n",
      "0.883034 (weighted by prevalence)\n"
     ]
    }
   ],
   "source": [
    "X_test = tfidf.transform(X_test)\n",
    "y_prob = classifier.predict_proba(X_test)\n",
    "\n",
    "macro_roc_auc_ovo = roc_auc_score(y_test, y_prob, multi_class=\"ovo\",\n",
    "                                  average=\"macro\")\n",
    "weighted_roc_auc_ovo = roc_auc_score(y_test, y_prob, multi_class=\"ovo\",\n",
    "                                     average=\"weighted\")\n",
    "macro_roc_auc_ovr = roc_auc_score(y_test, y_prob, multi_class=\"ovr\",\n",
    "                                  average=\"macro\")\n",
    "weighted_roc_auc_ovr = roc_auc_score(y_test, y_prob, multi_class=\"ovr\",\n",
    "                                     average=\"weighted\")\n",
    "print(\"One-vs-One ROC AUC scores:\\n{:.6f} (macro),\\n{:.6f} \"\n",
    "      \"(weighted by prevalence)\"\n",
    "      .format(macro_roc_auc_ovo, weighted_roc_auc_ovo))\n",
    "print(\"One-vs-Rest ROC AUC scores:\\n{:.6f} (macro),\\n{:.6f} \"\n",
    "      \"(weighted by prevalence)\"\n",
    "      .format(macro_roc_auc_ovr, weighted_roc_auc_ovr))"
   ]
  },
  {
   "cell_type": "code",
   "execution_count": null,
   "metadata": {},
   "outputs": [],
   "source": []
  }
 ],
 "metadata": {
  "kernelspec": {
   "display_name": "Python 3",
   "language": "python",
   "name": "python3"
  },
  "language_info": {
   "codemirror_mode": {
    "name": "ipython",
    "version": 3
   },
   "file_extension": ".py",
   "mimetype": "text/x-python",
   "name": "python",
   "nbconvert_exporter": "python",
   "pygments_lexer": "ipython3",
   "version": "3.7.6"
  }
 },
 "nbformat": 4,
 "nbformat_minor": 2
}
